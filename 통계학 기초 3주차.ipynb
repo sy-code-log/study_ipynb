{
 "cells": [
  {
   "cell_type": "code",
   "execution_count": 1,
   "id": "3b07ff76",
   "metadata": {},
   "outputs": [
    {
     "name": "stdout",
     "output_type": "stream",
     "text": [
      "[0 0 1 0 1 1 0 0 0 0 0 1 0 1 0 1 0 0 1 1 0 1 1 0 0 0 0 0 0 1 0 1 0 0 0 1 0\n",
      " 0 0 0 0 1 0 0 0 1 1 0 0 0 0 1 1 0 0 0 0 0 0 0 0 0 0 0 0 0 0 1 0 1 0 1 0 0\n",
      " 0 0 1 0 0 1 0 1 0 0 0 1 0 0 0 0 1 1 0 0 1 0 1 0 0 1]\n",
      "1의 개수:  30\n",
      "[0 0 1 0 1 0 0 1 0 1 0 0 1 0 0 0 0 1 0 0 1 0 0 0 0 1 1 1 0 1 1 1 0 1 1 0 1\n",
      " 1 0 1 0 0 1 0 1 1 0 0 0 0 0 1 1 0 0 0 0 0 0 0 1 0 0 0 0 1 0 0 0 0 0 0 0 0\n",
      " 1 0 0 0 0 1 1 0 0 0 0 0 1 0 0 0 0 1 1 1 0 0 0 0 0 1]\n",
      "1의 개수:  33\n",
      "P-value: 0.6498796851050463\n"
     ]
    }
   ],
   "source": [
    "# A/B 테스트\n",
    "\n",
    "import numpy as np\n",
    "import scipy.stats as stats\n",
    "\n",
    "# 가정된 전환율 데이터\n",
    "group_a = np.random.binomial(1, 0.30, 100)  # 약 30% 전환율\n",
    "group_b = np.random.binomial(1, 0.45, 100)  # 약 45% 전환율\n",
    "\n",
    "print(group_a)\n",
    "print('1의 개수: ', sum(group_a))\n",
    "\n",
    "print(group_b)\n",
    "print('1의 개수: ', sum(group_b))\n",
    "\n",
    "# t-test를 이용한 비교\n",
    "t_statistics, p_val = stats.ttest_ind(group_a, group_b)\n",
    "print(f'P-value: {p_val}')"
   ]
  },
  {
   "cell_type": "code",
   "execution_count": 2,
   "id": "7ce4fcfd",
   "metadata": {},
   "outputs": [
    {
     "name": "stdout",
     "output_type": "stream",
     "text": [
      "A 평균 효과: 47.866851403426026\n",
      "B 평균 효과: 49.516630823963105\n",
      "t 검정 통계량: -1.1657290215871843\n",
      "p-값: 0.24512635351406636\n",
      "귀무가설을 기각하지 않습니다. 통계적으로 유의미한 차이가 없습니다\n"
     ]
    }
   ],
   "source": [
    "# 기존 약물(A)와 새로운 약물(B) 효과 데이터 생성\n",
    "A = np.random.normal(50, 10, 100)\n",
    "B = np.random.normal(50, 10, 100)\n",
    "\n",
    "# 평균 효과 계산\n",
    "mean_A = np.mean(A)\n",
    "mean_B = np.mean(B)\n",
    "\n",
    "# t 검정 수행\n",
    "t_stat, p_value = stats.ttest_ind(A, B)\n",
    "\n",
    "print(f'A 평균 효과: {mean_A}')\n",
    "print(f'B 평균 효과: {mean_B}')\n",
    "print(f't 검정 통계량: {t_stat}')\n",
    "print(f'p-값: {p_value}')\n",
    "\n",
    "# t 검정의 p-값 확인\n",
    "if p_value < 0.05:\n",
    "    print('귀무가설을 기각합니다. 통계적으로 유의미한 차이가 있습니다.')\n",
    "else:\n",
    "    print('귀무가설을 기각하지 않습니다. 통계적으로 유의미한 차이가 없습니다')"
   ]
  },
  {
   "cell_type": "code",
   "execution_count": 3,
   "id": "5129b146",
   "metadata": {},
   "outputs": [
    {
     "name": "stdout",
     "output_type": "stream",
     "text": [
      "t-statistic: -2.0293329676425227, p_value: 0.047021790776300025\n"
     ]
    }
   ],
   "source": [
    "# 학생 점수 데이터\n",
    "scores_method1 = np.random.normal(70, 10, 30)\n",
    "scores_method2 = np.random.normal(75, 10, 30)\n",
    "\n",
    "# 독립표본 t검정\n",
    "t_stat, p_val = stats.ttest_ind(scores_method1, scores_method2)\n",
    "print(f't-statistic: {t_stat}, p_value: {p_val}')"
   ]
  },
  {
   "cell_type": "code",
   "execution_count": 4,
   "id": "e478455f",
   "metadata": {},
   "outputs": [
    {
     "name": "stdout",
     "output_type": "stream",
     "text": [
      "본페로니 보정된 유의수준: 0.0167\n",
      "검정 1: 유의미한 차이 발견 (p = 0.0000)\n",
      "검정 2: 유의미한 차이 발견 (p = 0.0058)\n",
      "검정 3: 유의미한 차이 없음 (p = 0.1461)\n"
     ]
    }
   ],
   "source": [
    "import numpy as np\n",
    "import scipy.stats as stats\n",
    "\n",
    "# 세 그룹의 데이터 생성\n",
    "np.random.seed(42)\n",
    "group_A = np.random.normal(10, 2, 30)\n",
    "group_B = np.random.normal(12, 2, 30)\n",
    "group_C = np.random.normal(11, 2, 30)\n",
    "\n",
    "# 세 그룹 간 평균 차이에 대한 t검정 수행\n",
    "p_values = []\n",
    "p_values.append(stats.ttest_ind(group_A, group_B).pvalue)\n",
    "p_values.append(stats.ttest_ind(group_A, group_C).pvalue)\n",
    "p_values.append(stats.ttest_ind(group_B, group_C).pvalue)\n",
    "\n",
    "# 본페로니 보정 적용\n",
    "alpha = 0.05\n",
    "adjusted_alpha = alpha / len(p_values)\n",
    "\n",
    "# 결과 출력\n",
    "print(f'본페로니 보정된 유의수준: {adjusted_alpha:.4f}')\n",
    "for i, p in enumerate(p_values):\n",
    "    if p < adjusted_alpha:\n",
    "        print(f'검정 {i+1}: 유의미한 차이 발견 (p = {p:.4f})')\n",
    "    else:\n",
    "        print(f'검정 {i+1}: 유의미한 차이 없음 (p = {p:.4f})')"
   ]
  },
  {
   "cell_type": "code",
   "execution_count": 5,
   "id": "cc09461e",
   "metadata": {},
   "outputs": [
    {
     "name": "stdout",
     "output_type": "stream",
     "text": [
      "적합도 검정 카이제곱 통계량: 2.0, p-값: 0.5724067044708798\n",
      "독립성 검정 카이제곱 통계량: 0.0, p-값: 1.0\n",
      "독립성 검정 카이제곱 통계량: 15.041666666666666, p-값: 0.00010516355403363106\n"
     ]
    }
   ],
   "source": [
    "# 적합도 검정\n",
    "observed = [20, 30, 25, 25]\n",
    "expected = [25, 25, 25, 25]\n",
    "chi2_stat, p_value = stats.chisquare(observed, f_exp=expected)\n",
    "print(f'적합도 검정 카이제곱 통계량: {chi2_stat}, p-값: {p_value}')\n",
    "\n",
    "# 독립성 검정\n",
    "observed = np.array([[10, 10, 20], [20, 20, 40]])\n",
    "chi2_stat, p_value, dof, expected = stats.chi2_contingency(observed)\n",
    "print(f'독립성 검정 카이제곱 통계량: {chi2_stat}, p-값: {p_value}')\n",
    "\n",
    "# 나이와 흡연 여부 독립성 검정\n",
    "observed = np.array([[30, 10], [20, 40]])\n",
    "chi2_stat, p_value, dof, expected = stats.chi2_contingency(observed)\n",
    "print(f'독립성 검정 카이제곱 통계량: {chi2_stat}, p-값: {p_value}')"
   ]
  }
 ],
 "metadata": {
  "kernelspec": {
   "display_name": "Python 3",
   "language": "python",
   "name": "python3"
  },
  "language_info": {
   "codemirror_mode": {
    "name": "ipython",
    "version": 3
   },
   "file_extension": ".py",
   "mimetype": "text/x-python",
   "name": "python",
   "nbconvert_exporter": "python",
   "pygments_lexer": "ipython3",
   "version": "3.13.3"
  }
 },
 "nbformat": 4,
 "nbformat_minor": 5
}
